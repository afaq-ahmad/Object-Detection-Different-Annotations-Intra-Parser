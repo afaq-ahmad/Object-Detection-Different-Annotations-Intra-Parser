{
 "cells": [
  {
   "cell_type": "code",
   "execution_count": 1,
   "metadata": {},
   "outputs": [],
   "source": [
    "import glob\n",
    "import xml.etree.ElementTree as ET"
   ]
  },
  {
   "cell_type": "code",
   "execution_count": 2,
   "metadata": {},
   "outputs": [],
   "source": [
    "labels=glob.glob('labels_xml/*')\n",
    "labels_s={'Car':0,'Half_Car':1}\n",
    "out_put_dir='labels_yolo/'"
   ]
  },
  {
   "cell_type": "code",
   "execution_count": 3,
   "metadata": {},
   "outputs": [],
   "source": [
    "save_dic={}\n",
    "def convert(size, box):\n",
    "    dw = 1./size[0]\n",
    "    dh = 1./size[1]\n",
    "    x = (box[0] + box[2])/2.0\n",
    "    y = (box[1] + box[3])/2.0\n",
    "    w = box[2] - box[0]\n",
    "    h = box[3] - box[1]\n",
    "    x = x*dw\n",
    "    w = w*dw\n",
    "    y = y*dh\n",
    "    h = h*dh\n",
    "    return [str(x),str(y),str(w),str(h)]\n",
    "\n",
    "for i in range(len(labels)):\n",
    "    objects=[]\n",
    "    tree = ET.parse(labels[i])\n",
    "    root = tree.getroot()\n",
    "    for member in root.findall('object'):\n",
    "        bbx = member.find('bndbox')\n",
    "        xmin = int(bbx.find('xmin').text)\n",
    "        ymin = int(bbx.find('ymin').text)\n",
    "        xmax = int(bbx.find('xmax').text)\n",
    "        ymax = int(bbx.find('ymax').text)\n",
    "        label = member.find('name').text\n",
    "        \n",
    "        objects.append([str(labels_s[label])]+convert([int(root.find('size')[0].text),int(root.find('size')[1].text)], [xmin,ymin,xmax,ymax]))\n",
    "    save_dic[root.find('filename').text]=objects\n",
    "\n",
    "\n",
    "Files=list(save_dic.keys())\n",
    "\n",
    "len(Files)"
   ]
  },
  {
   "cell_type": "code",
   "execution_count": 17,
   "metadata": {},
   "outputs": [],
   "source": [
    "for i in range(len(Files)):\n",
    "    with open(out_put_dir+Files[i].split('.')[0]+'.txt','w') as f:\n",
    "        for line in save_dic[Files[i]]:\n",
    "            f.writelines(' '.join(line)+'\\n')"
   ]
  },
  {
   "cell_type": "code",
   "execution_count": null,
   "metadata": {},
   "outputs": [],
   "source": []
  }
 ],
 "metadata": {
  "kernelspec": {
   "display_name": "Python 3",
   "language": "python",
   "name": "python3"
  },
  "language_info": {
   "codemirror_mode": {
    "name": "ipython",
    "version": 3
   },
   "file_extension": ".py",
   "mimetype": "text/x-python",
   "name": "python",
   "nbconvert_exporter": "python",
   "pygments_lexer": "ipython3",
   "version": "3.6.8"
  }
 },
 "nbformat": 4,
 "nbformat_minor": 2
}
