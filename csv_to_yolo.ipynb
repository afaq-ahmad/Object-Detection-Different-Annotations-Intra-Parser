{
 "cells": [
  {
   "cell_type": "code",
   "execution_count": 1,
   "metadata": {},
   "outputs": [],
   "source": [
    "import glob\n",
    "import xml.etree.ElementTree as ET\n",
    "import pandas as pd"
   ]
  },
  {
   "cell_type": "code",
   "execution_count": 2,
   "metadata": {},
   "outputs": [],
   "source": [
    "labels_s={'football':0}\n",
    "out_put_dir='labels/'"
   ]
  },
  {
   "cell_type": "code",
   "execution_count": 3,
   "metadata": {},
   "outputs": [],
   "source": [
    "save_dic={}\n",
    "def convert(size, box):\n",
    "    dw = 1./size[0]\n",
    "    dh = 1./size[1]\n",
    "    x = (box[0] + box[2])/2.0\n",
    "    y = (box[1] + box[3])/2.0\n",
    "    w = box[2] - box[0]\n",
    "    h = box[3] - box[1]\n",
    "    x = x*dw\n",
    "    w = w*dw\n",
    "    y = y*dh\n",
    "    h = h*dh\n",
    "    return [str(x),str(y),str(w),str(h)]\n",
    "\n"
   ]
  },
  {
   "cell_type": "code",
   "execution_count": 4,
   "metadata": {},
   "outputs": [
    {
     "data": {
      "text/html": [
       "<div>\n",
       "<style scoped>\n",
       "    .dataframe tbody tr th:only-of-type {\n",
       "        vertical-align: middle;\n",
       "    }\n",
       "\n",
       "    .dataframe tbody tr th {\n",
       "        vertical-align: top;\n",
       "    }\n",
       "\n",
       "    .dataframe thead th {\n",
       "        text-align: right;\n",
       "    }\n",
       "</style>\n",
       "<table border=\"1\" class=\"dataframe\">\n",
       "  <thead>\n",
       "    <tr style=\"text-align: right;\">\n",
       "      <th></th>\n",
       "      <th>filename</th>\n",
       "      <th>width</th>\n",
       "      <th>height</th>\n",
       "      <th>class</th>\n",
       "      <th>xmin</th>\n",
       "      <th>ymin</th>\n",
       "      <th>xmax</th>\n",
       "      <th>ymax</th>\n",
       "    </tr>\n",
       "  </thead>\n",
       "  <tbody>\n",
       "    <tr>\n",
       "      <th>0</th>\n",
       "      <td>Full_match_left_428_fliped.jpg</td>\n",
       "      <td>853</td>\n",
       "      <td>480</td>\n",
       "      <td>football</td>\n",
       "      <td>458</td>\n",
       "      <td>67</td>\n",
       "      <td>468</td>\n",
       "      <td>76</td>\n",
       "    </tr>\n",
       "    <tr>\n",
       "      <th>1</th>\n",
       "      <td>A_L_1199.jpg</td>\n",
       "      <td>1920</td>\n",
       "      <td>1080</td>\n",
       "      <td>football</td>\n",
       "      <td>415</td>\n",
       "      <td>274</td>\n",
       "      <td>433</td>\n",
       "      <td>293</td>\n",
       "    </tr>\n",
       "    <tr>\n",
       "      <th>2</th>\n",
       "      <td>A_R_1854_fliped.jpg</td>\n",
       "      <td>1920</td>\n",
       "      <td>1080</td>\n",
       "      <td>football</td>\n",
       "      <td>236</td>\n",
       "      <td>976</td>\n",
       "      <td>307</td>\n",
       "      <td>1065</td>\n",
       "    </tr>\n",
       "    <tr>\n",
       "      <th>3</th>\n",
       "      <td>A_L_3880_fliped.jpg</td>\n",
       "      <td>1920</td>\n",
       "      <td>1080</td>\n",
       "      <td>football</td>\n",
       "      <td>1413</td>\n",
       "      <td>160</td>\n",
       "      <td>1437</td>\n",
       "      <td>177</td>\n",
       "    </tr>\n",
       "    <tr>\n",
       "      <th>4</th>\n",
       "      <td>A_L_5213_fliped.jpg</td>\n",
       "      <td>1920</td>\n",
       "      <td>1080</td>\n",
       "      <td>football</td>\n",
       "      <td>42</td>\n",
       "      <td>315</td>\n",
       "      <td>57</td>\n",
       "      <td>338</td>\n",
       "    </tr>\n",
       "  </tbody>\n",
       "</table>\n",
       "</div>"
      ],
      "text/plain": [
       "                         filename  width  height     class  xmin  ymin  xmax  \\\n",
       "0  Full_match_left_428_fliped.jpg    853     480  football   458    67   468   \n",
       "1                    A_L_1199.jpg   1920    1080  football   415   274   433   \n",
       "2             A_R_1854_fliped.jpg   1920    1080  football   236   976   307   \n",
       "3             A_L_3880_fliped.jpg   1920    1080  football  1413   160  1437   \n",
       "4             A_L_5213_fliped.jpg   1920    1080  football    42   315    57   \n",
       "\n",
       "   ymax  \n",
       "0    76  \n",
       "1   293  \n",
       "2  1065  \n",
       "3   177  \n",
       "4   338  "
      ]
     },
     "execution_count": 4,
     "metadata": {},
     "output_type": "execute_result"
    }
   ],
   "source": [
    "data=pd.read_csv('data.csv')\n",
    "Unique_Images=data['filename'].unique()\n",
    "data.head()"
   ]
  },
  {
   "cell_type": "code",
   "execution_count": 20,
   "metadata": {},
   "outputs": [
    {
     "data": {
      "text/plain": [
       "11450"
      ]
     },
     "execution_count": 20,
     "metadata": {},
     "output_type": "execute_result"
    }
   ],
   "source": [
    "save_dic={}\n",
    "for i in range(len(Unique_Images)):\n",
    "    data_of_single_image=data[data['filename']==Unique_Images[i]]\n",
    "    data_of_single_image=data_of_single_image.reset_index(drop=True)\n",
    "    objects=[]\n",
    "    for k in range(len(data_of_single_image)):\n",
    "        filename = data_of_single_image['filename'][k]\n",
    "        width=data_of_single_image['width'][k]\n",
    "        height=data_of_single_image['height'][k]\n",
    "        label = data_of_single_image['class'][k]\n",
    "        \n",
    "        xmin = data_of_single_image['xmin'][k]\n",
    "        ymin = data_of_single_image['ymin'][k]\n",
    "        xmax = data_of_single_image['xmax'][k]\n",
    "        ymax = data_of_single_image['ymax'][k]\n",
    "\n",
    "        objects.append([str(labels_s[label])]+convert([width,height], [xmin,ymin,xmax,ymax]))\n",
    "    \n",
    "    save_dic[filename]=objects\n",
    "\n",
    "\n",
    "Files=list(save_dic.keys())\n",
    "\n",
    "len(Files)"
   ]
  },
  {
   "cell_type": "code",
   "execution_count": 27,
   "metadata": {},
   "outputs": [],
   "source": [
    "for i in range(len(Files)):\n",
    "    with open(out_put_dir+Files[i].split('.')[0]+'.txt','w') as f:\n",
    "        for line in save_dic[Files[i]]:\n",
    "            f.writelines(' '.join(line)+'\\n')"
   ]
  }
 ],
 "metadata": {
  "kernelspec": {
   "display_name": "Python 3",
   "language": "python",
   "name": "python3"
  },
  "language_info": {
   "codemirror_mode": {
    "name": "ipython",
    "version": 3
   },
   "file_extension": ".py",
   "mimetype": "text/x-python",
   "name": "python",
   "nbconvert_exporter": "python",
   "pygments_lexer": "ipython3",
   "version": "3.7.5"
  }
 },
 "nbformat": 4,
 "nbformat_minor": 2
}
