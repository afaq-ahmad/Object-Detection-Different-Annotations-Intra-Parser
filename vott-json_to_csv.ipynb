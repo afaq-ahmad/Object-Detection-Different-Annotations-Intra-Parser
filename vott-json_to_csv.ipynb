{
 "cells": [
  {
   "cell_type": "code",
   "execution_count": null,
   "metadata": {},
   "outputs": [],
   "source": [
    "import glob\n",
    "import cv2\n",
    "import json\n",
    "import pandas as pd\n",
    "import shutil"
   ]
  },
  {
   "cell_type": "code",
   "execution_count": null,
   "metadata": {},
   "outputs": [],
   "source": [
    "output_csv='output_coordinates.csv'\n",
    "Folder_of_jsons='data2/'"
   ]
  },
  {
   "cell_type": "code",
   "execution_count": null,
   "metadata": {},
   "outputs": [],
   "source": [
    "Files=glob.glob(Folder_of_jsons+'*.json')\n",
    "\n",
    "count=0\n",
    "Data_to_Save=[]\n",
    "for k in  range(len(Files)):\n",
    "    with open(Files[k],'r') as f:\n",
    "        inf=json.load(f)\n",
    "        name=inf['asset']['name'].replace('%25','%')\n",
    "        height,width=inf['asset']['size']['height'],inf['asset']['size']['width']\n",
    "        for box_n in range(len(inf['regions'])):\n",
    "            xmin=inf['regions'][box_n]['boundingBox']['left']\n",
    "            ymin=inf['regions'][box_n]['boundingBox']['top']\n",
    "            xmax=xmin+inf['regions'][box_n]['boundingBox']['width']\n",
    "            ymax=ymin+inf['regions'][box_n]['boundingBox']['height']\n",
    "            Data_to_Save.append([name,'football',height,width,xmin,ymin,xmax,ymax])\n",
    "            count=count+1\n",
    "    \n",
    "print (len(Files),count)\n",
    "\n",
    "pd_Data_to_save=pd.DataFrame(Data_to_Save,columns=['filenames','Class','Width','Height','xmin','ymin','xmax','ymax'])\n",
    "pd_Data_to_save.to_csv(output_csv,index=False)"
   ]
  }
 ],
 "metadata": {
  "kernelspec": {
   "display_name": "Python 3",
   "language": "python",
   "name": "python3"
  },
  "language_info": {
   "codemirror_mode": {
    "name": "ipython",
    "version": 3
   },
   "file_extension": ".py",
   "mimetype": "text/x-python",
   "name": "python",
   "nbconvert_exporter": "python",
   "pygments_lexer": "ipython3",
   "version": "3.7.5"
  }
 },
 "nbformat": 4,
 "nbformat_minor": 2
}
